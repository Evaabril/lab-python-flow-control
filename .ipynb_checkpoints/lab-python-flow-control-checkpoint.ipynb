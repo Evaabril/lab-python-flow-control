{
 "cells": [
  {
   "cell_type": "markdown",
   "id": "d3bfc191-8885-42ee-b0a0-bbab867c6f9f",
   "metadata": {
    "tags": []
   },
   "source": [
    "# Lab | Flow Control"
   ]
  },
  {
   "cell_type": "markdown",
   "id": "3851fcd1-cf98-4653-9c89-e003b7ec9400",
   "metadata": {},
   "source": [
    "## Exercise: Managing Customer Orders Optimized\n",
    "\n",
    "In the last lab, you were starting an online store that sells various products. To ensure smooth operations, you developed a program that manages customer orders and inventory.\n",
    "\n",
    "You did so without using flow control. Let's go a step further and improve this code.\n",
    "\n",
    "Follow the steps below to complete the exercise:\n",
    "\n",
    "1. Look at your code from the lab data structures, and improve repeated code with loops.\n",
    "\n",
    "2. Instead of asking the user to input the name of three products that a customer wants to order, do the following:\n",
    "    \n",
    "    a. Prompt the user to enter the name of a product that a customer wants to order.\n",
    "    \n",
    "    b. Add the product name to the \"customer_orders\" set.\n",
    "    \n",
    "    c. Ask the user if they want to add another product (yes/no).\n",
    "    \n",
    "    d. Continue the loop until the user does not want to add another product.\n",
    "\n",
    "3. Instead of updating the inventory by subtracting 1 from the quantity of each product, only do it for  the products that were ordered (those in \"customer_orders\")."
   ]
  },
  {
   "cell_type": "code",
   "execution_count": 1,
   "id": "6a61d84a-c39f-4387-aa2a-5fe539008946",
   "metadata": {},
   "outputs": [],
   "source": [
    "# 1. Define a list called products that contains the following items: \"t-shirt\", \"mug\", \"hat\", \"book\", \"keychain\".\n",
    "products = [\"t-shirt\", \"mug\", \"hat\", \"book\", \"keychain\"]"
   ]
  },
  {
   "cell_type": "code",
   "execution_count": 2,
   "id": "2ff18fd1-705f-4e0e-8038-190704d465ae",
   "metadata": {},
   "outputs": [],
   "source": [
    "# 1.2 Create an empty dictionary called inventory\n",
    "inventory = {}"
   ]
  },
  {
   "cell_type": "code",
   "execution_count": 5,
   "id": "68584398-bafa-48f7-af99-df039845519c",
   "metadata": {},
   "outputs": [
    {
     "name": "stdin",
     "output_type": "stream",
     "text": [
      "How many t-shirt are in the inventory?:  500\n",
      "How many mug are in the inventory?:  400\n",
      "How many hat are in the inventory?:  784\n",
      "How many book are in the inventory?:  987\n",
      "How many keychain are in the inventory?:  963\n"
     ]
    },
    {
     "name": "stdout",
     "output_type": "stream",
     "text": [
      "{'t-shirt': 500, 'mug': 400, 'hat': 784, 'book': 987, 'keychain': 963}\n"
     ]
    }
   ],
   "source": [
    "# 1.3. Ask the user to input the quantity of each product available in the inventory.Use the product names from the products list as keys in the inventory dictionary and assign the respective quantities as values. \n",
    "products = [\"t-shirt\", \"mug\", \"hat\", \"book\", \"keychain\"]\n",
    "for product in products:\n",
    "    x = int(input(f\"How many {product} are in the inventory?: \"))\n",
    "    inventory[product]= x\n",
    "print (inventory)"
   ]
  },
  {
   "cell_type": "code",
   "execution_count": 4,
   "id": "0c3516a1-bb46-48dc-bd69-f3a2d24a47df",
   "metadata": {},
   "outputs": [
    {
     "data": {
      "text/plain": [
       "set"
      ]
     },
     "execution_count": 4,
     "metadata": {},
     "output_type": "execute_result"
    }
   ],
   "source": [
    "# 1.4. Create an empty set called customer_orders\n",
    "customer_orders = set()\n",
    "type (customer_orders)"
   ]
  },
  {
   "cell_type": "code",
   "execution_count": 6,
   "id": "0df7ba06-b1f6-48ca-be99-47f2a675338e",
   "metadata": {},
   "outputs": [
    {
     "name": "stdin",
     "output_type": "stream",
     "text": [
      "Que deseas comprar?: hat\n"
     ]
    },
    {
     "name": "stdout",
     "output_type": "stream",
     "text": [
      "Has elegido hat\n"
     ]
    },
    {
     "name": "stdin",
     "output_type": "stream",
     "text": [
      "Deseas seguir comprando?:  si\n",
      "Que deseas comprar?: mug\n"
     ]
    },
    {
     "name": "stdout",
     "output_type": "stream",
     "text": [
      "Has elegido mug\n"
     ]
    },
    {
     "name": "stdin",
     "output_type": "stream",
     "text": [
      "Deseas seguir comprando?:  si\n",
      "Que deseas comprar?: book\n"
     ]
    },
    {
     "name": "stdout",
     "output_type": "stream",
     "text": [
      "Has elegido book\n"
     ]
    },
    {
     "name": "stdin",
     "output_type": "stream",
     "text": [
      "Deseas seguir comprando?:  no\n"
     ]
    },
    {
     "name": "stdout",
     "output_type": "stream",
     "text": [
      "Gracias por tu compra\n"
     ]
    }
   ],
   "source": [
    "# 2. Instead of asking the user to input the name of three products that a customer wants to order, do the following:\n",
    "# a. Prompt the user to enter the name of a product that a customer wants to order. \n",
    "# b. Add the product name to the \"customer_orders\" set.\n",
    "# c. Ask the user if they want to add another product (yes/no).\n",
    "# d. Continue the loop until the user does not want to add another product.\n",
    "\n",
    "products = [\"t-shirt\", \"mug\", \"hat\", \"book\", \"keychain\"]\n",
    "y = \"si\" \n",
    "while y == \"si\":\n",
    "    x = (input( \"Que deseas comprar?:\"))\n",
    "    customer_orders.add(x)\n",
    "    print (f\"Has elegido {x}\")\n",
    "    y = input(\"Deseas seguir comprando?: \")\n",
    "    set (x)\n",
    "else:\n",
    "    print (\"Gracias por tu compra\")"
   ]
  },
  {
   "cell_type": "code",
   "execution_count": 7,
   "id": "eae3e421-e0cc-4721-9ece-a96ac99296b9",
   "metadata": {},
   "outputs": [
    {
     "name": "stdout",
     "output_type": "stream",
     "text": [
      "{'mug', 'book', 'hat'}\n"
     ]
    }
   ],
   "source": [
    "print(customer_orders)"
   ]
  },
  {
   "cell_type": "code",
   "execution_count": 9,
   "id": "c9fe6333-fbd4-4448-be32-91ee9a3c1faa",
   "metadata": {},
   "outputs": [
    {
     "name": "stdout",
     "output_type": "stream",
     "text": [
      "{'t-shirt': 500, 'mug': 399, 'hat': 783, 'book': 986, 'keychain': 963}\n"
     ]
    }
   ],
   "source": [
    "# 3. Instead of updating the inventory by subtracting 1 from the quantity of each product, only do it for the products that were ordered (those in \"customer_orders\"). \n",
    "for product in customer_orders:\n",
    "    inventory[product] = inventory.get(product)- 1\n",
    "print (inventory)   "
   ]
  }
 ],
 "metadata": {
  "kernelspec": {
   "display_name": "Python 3 (ipykernel)",
   "language": "python",
   "name": "python3"
  },
  "language_info": {
   "codemirror_mode": {
    "name": "ipython",
    "version": 3
   },
   "file_extension": ".py",
   "mimetype": "text/x-python",
   "name": "python",
   "nbconvert_exporter": "python",
   "pygments_lexer": "ipython3",
   "version": "3.11.7"
  }
 },
 "nbformat": 4,
 "nbformat_minor": 5
}
